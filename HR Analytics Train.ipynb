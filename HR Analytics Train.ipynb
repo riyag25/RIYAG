{
 "cells": [
  {
   "cell_type": "code",
   "execution_count": 1,
   "id": "74a13e80",
   "metadata": {},
   "outputs": [],
   "source": [
    "import pandas as pd\n",
    "import numpy as np\n",
    "import matplotlib.pyplot as plt\n",
    "import seaborn as sns"
   ]
  },
  {
   "cell_type": "code",
   "execution_count": 2,
   "id": "88de86d1",
   "metadata": {},
   "outputs": [],
   "source": [
    "df = pd.read_csv('train_LZdllcl.csv')"
   ]
  },
  {
   "cell_type": "code",
   "execution_count": 3,
   "id": "8365df6b",
   "metadata": {},
   "outputs": [
    {
     "data": {
      "text/html": [
       "<div>\n",
       "<style scoped>\n",
       "    .dataframe tbody tr th:only-of-type {\n",
       "        vertical-align: middle;\n",
       "    }\n",
       "\n",
       "    .dataframe tbody tr th {\n",
       "        vertical-align: top;\n",
       "    }\n",
       "\n",
       "    .dataframe thead th {\n",
       "        text-align: right;\n",
       "    }\n",
       "</style>\n",
       "<table border=\"1\" class=\"dataframe\">\n",
       "  <thead>\n",
       "    <tr style=\"text-align: right;\">\n",
       "      <th></th>\n",
       "      <th>employee_id</th>\n",
       "      <th>department</th>\n",
       "      <th>region</th>\n",
       "      <th>education</th>\n",
       "      <th>gender</th>\n",
       "      <th>recruitment_channel</th>\n",
       "      <th>no_of_trainings</th>\n",
       "      <th>age</th>\n",
       "      <th>previous_year_rating</th>\n",
       "      <th>length_of_service</th>\n",
       "      <th>KPIs_met &gt;80%</th>\n",
       "      <th>awards_won?</th>\n",
       "      <th>avg_training_score</th>\n",
       "      <th>is_promoted</th>\n",
       "    </tr>\n",
       "  </thead>\n",
       "  <tbody>\n",
       "    <tr>\n",
       "      <th>0</th>\n",
       "      <td>65438</td>\n",
       "      <td>Sales &amp; Marketing</td>\n",
       "      <td>region_7</td>\n",
       "      <td>Master's &amp; above</td>\n",
       "      <td>f</td>\n",
       "      <td>sourcing</td>\n",
       "      <td>1</td>\n",
       "      <td>35</td>\n",
       "      <td>5.0</td>\n",
       "      <td>8</td>\n",
       "      <td>1</td>\n",
       "      <td>0</td>\n",
       "      <td>49</td>\n",
       "      <td>0</td>\n",
       "    </tr>\n",
       "    <tr>\n",
       "      <th>1</th>\n",
       "      <td>65141</td>\n",
       "      <td>Operations</td>\n",
       "      <td>region_22</td>\n",
       "      <td>Bachelor's</td>\n",
       "      <td>m</td>\n",
       "      <td>other</td>\n",
       "      <td>1</td>\n",
       "      <td>30</td>\n",
       "      <td>5.0</td>\n",
       "      <td>4</td>\n",
       "      <td>0</td>\n",
       "      <td>0</td>\n",
       "      <td>60</td>\n",
       "      <td>0</td>\n",
       "    </tr>\n",
       "    <tr>\n",
       "      <th>2</th>\n",
       "      <td>7513</td>\n",
       "      <td>Sales &amp; Marketing</td>\n",
       "      <td>region_19</td>\n",
       "      <td>Bachelor's</td>\n",
       "      <td>m</td>\n",
       "      <td>sourcing</td>\n",
       "      <td>1</td>\n",
       "      <td>34</td>\n",
       "      <td>3.0</td>\n",
       "      <td>7</td>\n",
       "      <td>0</td>\n",
       "      <td>0</td>\n",
       "      <td>50</td>\n",
       "      <td>0</td>\n",
       "    </tr>\n",
       "    <tr>\n",
       "      <th>3</th>\n",
       "      <td>2542</td>\n",
       "      <td>Sales &amp; Marketing</td>\n",
       "      <td>region_23</td>\n",
       "      <td>Bachelor's</td>\n",
       "      <td>m</td>\n",
       "      <td>other</td>\n",
       "      <td>2</td>\n",
       "      <td>39</td>\n",
       "      <td>1.0</td>\n",
       "      <td>10</td>\n",
       "      <td>0</td>\n",
       "      <td>0</td>\n",
       "      <td>50</td>\n",
       "      <td>0</td>\n",
       "    </tr>\n",
       "    <tr>\n",
       "      <th>4</th>\n",
       "      <td>48945</td>\n",
       "      <td>Technology</td>\n",
       "      <td>region_26</td>\n",
       "      <td>Bachelor's</td>\n",
       "      <td>m</td>\n",
       "      <td>other</td>\n",
       "      <td>1</td>\n",
       "      <td>45</td>\n",
       "      <td>3.0</td>\n",
       "      <td>2</td>\n",
       "      <td>0</td>\n",
       "      <td>0</td>\n",
       "      <td>73</td>\n",
       "      <td>0</td>\n",
       "    </tr>\n",
       "  </tbody>\n",
       "</table>\n",
       "</div>"
      ],
      "text/plain": [
       "   employee_id         department     region         education gender  \\\n",
       "0        65438  Sales & Marketing   region_7  Master's & above      f   \n",
       "1        65141         Operations  region_22        Bachelor's      m   \n",
       "2         7513  Sales & Marketing  region_19        Bachelor's      m   \n",
       "3         2542  Sales & Marketing  region_23        Bachelor's      m   \n",
       "4        48945         Technology  region_26        Bachelor's      m   \n",
       "\n",
       "  recruitment_channel  no_of_trainings  age  previous_year_rating  \\\n",
       "0            sourcing                1   35                   5.0   \n",
       "1               other                1   30                   5.0   \n",
       "2            sourcing                1   34                   3.0   \n",
       "3               other                2   39                   1.0   \n",
       "4               other                1   45                   3.0   \n",
       "\n",
       "   length_of_service  KPIs_met >80%  awards_won?  avg_training_score  \\\n",
       "0                  8              1            0                  49   \n",
       "1                  4              0            0                  60   \n",
       "2                  7              0            0                  50   \n",
       "3                 10              0            0                  50   \n",
       "4                  2              0            0                  73   \n",
       "\n",
       "   is_promoted  \n",
       "0            0  \n",
       "1            0  \n",
       "2            0  \n",
       "3            0  \n",
       "4            0  "
      ]
     },
     "execution_count": 3,
     "metadata": {},
     "output_type": "execute_result"
    }
   ],
   "source": [
    "df.head()"
   ]
  },
  {
   "cell_type": "code",
   "execution_count": 4,
   "id": "0c95db01",
   "metadata": {},
   "outputs": [
    {
     "data": {
      "text/plain": [
       "employee_id                0\n",
       "department                 0\n",
       "region                     0\n",
       "education               2409\n",
       "gender                     0\n",
       "recruitment_channel        0\n",
       "no_of_trainings            0\n",
       "age                        0\n",
       "previous_year_rating    4124\n",
       "length_of_service          0\n",
       "KPIs_met >80%              0\n",
       "awards_won?                0\n",
       "avg_training_score         0\n",
       "is_promoted                0\n",
       "dtype: int64"
      ]
     },
     "execution_count": 4,
     "metadata": {},
     "output_type": "execute_result"
    }
   ],
   "source": [
    "df.isna().sum()"
   ]
  },
  {
   "cell_type": "code",
   "execution_count": 5,
   "id": "b74c1bdc",
   "metadata": {},
   "outputs": [
    {
     "data": {
      "text/plain": [
       "Bachelor's          36669\n",
       "Master's & above    14925\n",
       "Below Secondary       805\n",
       "Name: education, dtype: int64"
      ]
     },
     "execution_count": 5,
     "metadata": {},
     "output_type": "execute_result"
    }
   ],
   "source": [
    "df['education'].value_counts()"
   ]
  },
  {
   "cell_type": "code",
   "execution_count": 6,
   "id": "209a3f37",
   "metadata": {
    "scrolled": true
   },
   "outputs": [
    {
     "data": {
      "image/png": "[encoded data removed]",
      "text/plain": [
       "<Figure size 720x720 with 9 Axes>"
      ]
     },
     "metadata": {
      "needs_background": "light"
     },
     "output_type": "display_data"
    }
   ],
   "source": [
    "df.plot(kind ='box', subplots =True,sharex =True,sharey= False, layout = (3,3), figsize=(10,10))\n",
    "plt.show()"
   ]
  },
  {
   "cell_type": "code",
   "execution_count": 7,
   "id": "1e5ae4dd",
   "metadata": {
    "scrolled": true
   },
   "outputs": [
    {
     "data": {
      "text/plain": [
       "<AxesSubplot:xlabel='Count', ylabel='department'>"
      ]
     },
     "execution_count": 7,
     "metadata": {},
     "output_type": "execute_result"
    },
    {
     "data": {
      "image/png": "[encoded data removed]",
      "text/plain": [
       "<Figure size 432x288 with 1 Axes>"
      ]
     },
     "metadata": {
      "needs_background": "light"
     },
     "output_type": "display_data"
    }
   ],
   "source": [
    "sns.histplot(data = df, y ='department', hue ='education')"
   ]
  },
  {
   "cell_type": "code",
   "execution_count": 8,
   "id": "5858fc8c",
   "metadata": {
    "scrolled": true
   },
   "outputs": [
    {
     "data": {
      "text/plain": [
       "<AxesSubplot:xlabel='Count', ylabel='education'>"
      ]
     },
     "execution_count": 8,
     "metadata": {},
     "output_type": "execute_result"
    },
    {
     "data": {
      "image/png": "[encoded data removed]",
      "text/plain": [
       "<Figure size 432x288 with 1 Axes>"
      ]
     },
     "metadata": {
      "needs_background": "light"
     },
     "output_type": "display_data"
    }
   ],
   "source": [
    "sns.histplot(data = df, y = 'education', hue ='department')"
   ]
  },
  {
   "cell_type": "code",
   "execution_count": 9,
   "id": "9316560c",
   "metadata": {
    "scrolled": true
   },
   "outputs": [
    {
     "data": {
      "text/plain": [
       "<AxesSubplot:xlabel='age', ylabel='Density'>"
      ]
     },
     "execution_count": 9,
     "metadata": {},
     "output_type": "execute_result"
    },
    {
     "data": {
      "image/png": "[encoded data removed]",
      "text/plain": [
       "<Figure size 432x288 with 1 Axes>"
      ]
     },
     "metadata": {
      "needs_background": "light"
     },
     "output_type": "display_data"
    }
   ],
   "source": [
    "sns.kdeplot(data = df, hue= 'education', x ='age')"
   ]
  },
  {
   "cell_type": "code",
   "execution_count": 10,
   "id": "e34dc8f4",
   "metadata": {},
   "outputs": [
    {
     "data": {
      "text/plain": [
       "<AxesSubplot:>"
      ]
     },
     "execution_count": 10,
     "metadata": {},
     "output_type": "execute_result"
    },
    {
     "data": {
      "image/png": "[encoded data removed]",
      "text/plain": [
       "<Figure size 432x288 with 1 Axes>"
      ]
     },
     "metadata": {
      "needs_background": "light"
     },
     "output_type": "display_data"
    }
   ],
   "source": [
    "df[df['education'].isna()]['age'].hist()"
   ]
  },
  {
   "cell_type": "code",
   "execution_count": 11,
   "id": "5a7a803d",
   "metadata": {
    "scrolled": true
   },
   "outputs": [
    {
     "data": {
      "text/plain": [
       "<AxesSubplot:>"
      ]
     },
     "execution_count": 11,
     "metadata": {},
     "output_type": "execute_result"
    },
    {
     "data": {
      "image/png": "[encoded data removed]",
      "text/plain": [
       "<Figure size 432x288 with 1 Axes>"
      ]
     },
     "metadata": {
      "needs_background": "light"
     },
     "output_type": "display_data"
    }
   ],
   "source": [
    "df['previous_year_rating'].hist()"
   ]
  },
  {
   "cell_type": "markdown",
   "id": "bad7dc25",
   "metadata": {},
   "source": [
    "## Missing Values"
   ]
  },
  {
   "cell_type": "code",
   "execution_count": 12,
   "id": "01bd5c2c",
   "metadata": {},
   "outputs": [
    {
     "data": {
      "text/plain": [
       "employee_id                0\n",
       "department                 0\n",
       "region                     0\n",
       "education               2409\n",
       "gender                     0\n",
       "recruitment_channel        0\n",
       "no_of_trainings            0\n",
       "age                        0\n",
       "previous_year_rating    4124\n",
       "length_of_service          0\n",
       "KPIs_met >80%              0\n",
       "awards_won?                0\n",
       "avg_training_score         0\n",
       "is_promoted                0\n",
       "dtype: int64"
      ]
     },
     "execution_count": 12,
     "metadata": {},
     "output_type": "execute_result"
    }
   ],
   "source": [
    "df.isna().sum()"
   ]
  },
  {
   "cell_type": "code",
   "execution_count": 13,
   "id": "5e3c7940",
   "metadata": {},
   "outputs": [
    {
     "data": {
      "text/plain": [
       "<AxesSubplot:>"
      ]
     },
     "execution_count": 13,
     "metadata": {},
     "output_type": "execute_result"
    },
    {
     "data": {
      "image/png": "[encoded data removed]",
      "text/plain": [
       "<Figure size 432x288 with 1 Axes>"
      ]
     },
     "metadata": {
      "needs_background": "light"
     },
     "output_type": "display_data"
    }
   ],
   "source": [
    "df['previous_year_rating'].hist()"
   ]
  },
  {
   "cell_type": "code",
   "execution_count": 14,
   "id": "9488b625",
   "metadata": {},
   "outputs": [
    {
     "data": {
      "text/plain": [
       "3.0    18618\n",
       "5.0    11741\n",
       "4.0     9877\n",
       "1.0     6223\n",
       "2.0     4225\n",
       "Name: previous_year_rating, dtype: int64"
      ]
     },
     "execution_count": 14,
     "metadata": {},
     "output_type": "execute_result"
    }
   ],
   "source": [
    "df['previous_year_rating'].value_counts()"
   ]
  },
  {
   "cell_type": "code",
   "execution_count": 15,
   "id": "35e34a15",
   "metadata": {},
   "outputs": [],
   "source": [
    "df['previous_year_rating'] = df['previous_year_rating'].fillna(3.0)"
   ]
  },
  {
   "cell_type": "code",
   "execution_count": 16,
   "id": "a556c906",
   "metadata": {},
   "outputs": [
    {
     "data": {
      "text/plain": [
       "<AxesSubplot:>"
      ]
     },
     "execution_count": 16,
     "metadata": {},
     "output_type": "execute_result"
    },
    {
     "data": {
      "image/png": "[encoded data removed]",
      "text/plain": [
       "<Figure size 432x288 with 1 Axes>"
      ]
     },
     "metadata": {
      "needs_background": "light"
     },
     "output_type": "display_data"
    }
   ],
   "source": [
    "df['education'].hist()"
   ]
  },
  {
   "cell_type": "code",
   "execution_count": 17,
   "id": "22a512cf",
   "metadata": {},
   "outputs": [
    {
     "data": {
      "text/plain": [
       "0    Bachelor's\n",
       "dtype: object"
      ]
     },
     "execution_count": 17,
     "metadata": {},
     "output_type": "execute_result"
    }
   ],
   "source": [
    "df['education'].mode()"
   ]
  },
  {
   "cell_type": "code",
   "execution_count": 18,
   "id": "8d4810b0",
   "metadata": {},
   "outputs": [],
   "source": [
    "df['education'] = df['education'].fillna(\"Bachelor's\")"
   ]
  },
  {
   "cell_type": "code",
   "execution_count": 19,
   "id": "8b4e8b9c",
   "metadata": {},
   "outputs": [
    {
     "data": {
      "text/plain": [
       "employee_id             0\n",
       "department              0\n",
       "region                  0\n",
       "education               0\n",
       "gender                  0\n",
       "recruitment_channel     0\n",
       "no_of_trainings         0\n",
       "age                     0\n",
       "previous_year_rating    0\n",
       "length_of_service       0\n",
       "KPIs_met >80%           0\n",
       "awards_won?             0\n",
       "avg_training_score      0\n",
       "is_promoted             0\n",
       "dtype: int64"
      ]
     },
     "execution_count": 19,
     "metadata": {},
     "output_type": "execute_result"
    }
   ],
   "source": [
    "df.isna().sum()"
   ]
  },
  {
   "cell_type": "markdown",
   "id": "3cf98423",
   "metadata": {},
   "source": [
    "## OUTLIERS"
   ]
  },
  {
   "cell_type": "code",
   "execution_count": 20,
   "id": "9d84b74f",
   "metadata": {},
   "outputs": [
    {
     "data": {
      "image/png": "[encoded data removed]",
      "text/plain": [
       "<Figure size 720x720 with 12 Axes>"
      ]
     },
     "metadata": {
      "needs_background": "light"
     },
     "output_type": "display_data"
    }
   ],
   "source": [
    "df.plot(kind ='box', subplots =True,sharex =True,sharey= False, layout = (4,3), figsize=(10,10))\n",
    "plt.show()"
   ]
  },
  {
   "cell_type": "code",
   "execution_count": 21,
   "id": "fa3c029c",
   "metadata": {},
   "outputs": [
    {
     "data": {
      "text/plain": [
       "49.0"
      ]
     },
     "execution_count": 21,
     "metadata": {},
     "output_type": "execute_result"
    }
   ],
   "source": [
    "q1 = df['age'].quantile(.25)\n",
    "q3 = df['age'].quantile(.75)\n",
    "iqr =q3-q1\n",
    "up = q3+iqr\n",
    "low =q1-iqr\n",
    "df.loc[df['age']>up,'age'] = up\n",
    "up    "
   ]
  },
  {
   "cell_type": "code",
   "execution_count": 22,
   "id": "738e7495",
   "metadata": {},
   "outputs": [
    {
     "data": {
      "text/plain": [
       "<AxesSubplot:>"
      ]
     },
     "execution_count": 22,
     "metadata": {},
     "output_type": "execute_result"
    },
    {
     "data": {
      "image/png": "[encoded data removed]",
      "text/plain": [
       "<Figure size 432x288 with 1 Axes>"
      ]
     },
     "metadata": {
      "needs_background": "light"
     },
     "output_type": "display_data"
    }
   ],
   "source": [
    "#outlier capping\n",
    "df['age'].plot(kind ='box')"
   ]
  },
  {
   "cell_type": "code",
   "execution_count": 23,
   "id": "93b00b52",
   "metadata": {},
   "outputs": [
    {
     "data": {
      "text/plain": [
       "15.0"
      ]
     },
     "execution_count": 23,
     "metadata": {},
     "output_type": "execute_result"
    }
   ],
   "source": [
    "df['length_of_service'].quantile(.95) #capping at 95th percentile"
   ]
  },
  {
   "cell_type": "code",
   "execution_count": 24,
   "id": "b50508bc",
   "metadata": {},
   "outputs": [],
   "source": [
    "df.loc[df['length_of_service']>15.0, 'length_of_service'] = 15.0"
   ]
  },
  {
   "cell_type": "code",
   "execution_count": 25,
   "id": "5f5b232f",
   "metadata": {},
   "outputs": [
    {
     "data": {
      "image/png": "[encoded data removed]",
      "text/plain": [
       "<Figure size 720x720 with 15 Axes>"
      ]
     },
     "metadata": {
      "needs_background": "light"
     },
     "output_type": "display_data"
    }
   ],
   "source": [
    "df.hist(figsize=(10,10),layout = (3,5))\n",
    "plt.tight_layout()\n",
    "plt.show()"
   ]
  },
  {
   "cell_type": "code",
   "execution_count": 26,
   "id": "eb6a02f4",
   "metadata": {},
   "outputs": [
    {
     "data": {
      "text/plain": [
       "employee_id             0\n",
       "department              0\n",
       "region                  0\n",
       "education               0\n",
       "gender                  0\n",
       "recruitment_channel     0\n",
       "no_of_trainings         0\n",
       "age                     0\n",
       "previous_year_rating    0\n",
       "length_of_service       0\n",
       "KPIs_met >80%           0\n",
       "awards_won?             0\n",
       "avg_training_score      0\n",
       "is_promoted             0\n",
       "dtype: int64"
      ]
     },
     "execution_count": 26,
     "metadata": {},
     "output_type": "execute_result"
    }
   ],
   "source": [
    "df.isna().sum()"
   ]
  },
  {
   "cell_type": "markdown",
   "id": "0a21e7d5",
   "metadata": {},
   "source": [
    "## Feature Extraction"
   ]
  },
  {
   "cell_type": "code",
   "execution_count": 27,
   "id": "8cc3bd0b",
   "metadata": {},
   "outputs": [],
   "source": [
    "\n",
    "#Apply the Pca on the input set and get the single column which summarized the input features in the 1 Dimension and used that as a new features.helps to improve the score by 0.5 percent.\n",
    "#pca column added after scaling\n",
    "#\n"
   ]
  },
  {
   "cell_type": "markdown",
   "id": "65b2d5fd",
   "metadata": {},
   "source": [
    "## Encoding"
   ]
  },
  {
   "cell_type": "code",
   "execution_count": 28,
   "id": "42dc409d",
   "metadata": {},
   "outputs": [
    {
     "data": {
      "text/plain": [
       "employee_id               int64\n",
       "department               object\n",
       "region                   object\n",
       "education                object\n",
       "gender                   object\n",
       "recruitment_channel      object\n",
       "no_of_trainings           int64\n",
       "age                       int64\n",
       "previous_year_rating    float64\n",
       "length_of_service         int64\n",
       "KPIs_met >80%             int64\n",
       "awards_won?               int64\n",
       "avg_training_score        int64\n",
       "is_promoted               int64\n",
       "dtype: object"
      ]
     },
     "execution_count": 28,
     "metadata": {},
     "output_type": "execute_result"
    }
   ],
   "source": [
    "df.dtypes"
   ]
  },
  {
   "cell_type": "code",
   "execution_count": 29,
   "id": "2b4fa789",
   "metadata": {},
   "outputs": [],
   "source": [
    "eds = {\"Bachelor's\": 1, \"Master's & above\" : 2,\"Below Secondary\": 3 }\n",
    "gender = {'m':0, 'f':1}\n",
    "chanl = {'other' : 0, 'sourcing':1 , 'referred':2}\n",
    "df['education'] = df['education'].map(eds)\n",
    "df['gender'] = df['gender'].map(gender)\n",
    "df['recruitment_channel'] = df['recruitment_channel'].map(chanl)"
   ]
  },
  {
   "cell_type": "code",
   "execution_count": 30,
   "id": "1cfe5a76",
   "metadata": {},
   "outputs": [
    {
     "data": {
      "text/plain": [
       "0    30446\n",
       "1    23220\n",
       "2     1142\n",
       "Name: recruitment_channel, dtype: int64"
      ]
     },
     "execution_count": 30,
     "metadata": {},
     "output_type": "execute_result"
    }
   ],
   "source": [
    "df['recruitment_channel'].value_counts()"
   ]
  },
  {
   "cell_type": "code",
   "execution_count": 31,
   "id": "0571b727",
   "metadata": {},
   "outputs": [
    {
     "name": "stderr",
     "output_type": "stream",
     "text": [
      "C:\\Users\\zacha\\anaconda3\\lib\\site-packages\\sklearn\\utils\\validation.py:63: DataConversionWarning: A column-vector y was passed when a 1d array was expected. Please change the shape of y to (n_samples, ), for example using ravel().\n",
      "  return f(*args, **kwargs)\n"
     ]
    }
   ],
   "source": [
    "#department, region\n",
    "from sklearn.preprocessing import LabelEncoder\n",
    "le1 = LabelEncoder()\n",
    "le1.fit(df['department'])\n",
    "df['department'] = le1.transform(df[['department']])"
   ]
  },
  {
   "cell_type": "code",
   "execution_count": 32,
   "id": "a5022459",
   "metadata": {},
   "outputs": [],
   "source": [
    "le2 = LabelEncoder()\n",
    "le2.fit(df['region'])\n",
    "df['region'] = le2.transform(df[['region']])"
   ]
  },
  {
   "cell_type": "code",
   "execution_count": 33,
   "id": "b9401215",
   "metadata": {},
   "outputs": [
    {
     "data": {
      "text/plain": [
       "['le2region.sav']"
      ]
     },
     "execution_count": 33,
     "metadata": {},
     "output_type": "execute_result"
    }
   ],
   "source": [
    "import joblib\n",
    "joblib.dump(le1, 'le1department.sav')\n",
    "joblib.dump(le2, 'le2region.sav')"
   ]
  },
  {
   "cell_type": "code",
   "execution_count": 34,
   "id": "25dc72c1",
   "metadata": {},
   "outputs": [
    {
     "data": {
      "text/plain": [
       "employee_id             0\n",
       "department              0\n",
       "region                  0\n",
       "education               0\n",
       "gender                  0\n",
       "recruitment_channel     0\n",
       "no_of_trainings         0\n",
       "age                     0\n",
       "previous_year_rating    0\n",
       "length_of_service       0\n",
       "KPIs_met >80%           0\n",
       "awards_won?             0\n",
       "avg_training_score      0\n",
       "is_promoted             0\n",
       "dtype: int64"
      ]
     },
     "execution_count": 34,
     "metadata": {},
     "output_type": "execute_result"
    }
   ],
   "source": [
    "df.isna().sum()"
   ]
  },
  {
   "cell_type": "markdown",
   "id": "023f2f3b",
   "metadata": {},
   "source": [
    "## Splitting and Scaling"
   ]
  },
  {
   "cell_type": "code",
   "execution_count": 35,
   "id": "54f77752",
   "metadata": {},
   "outputs": [],
   "source": [
    "X = df.drop('is_promoted', axis =1)\n",
    "y = df['is_promoted']"
   ]
  },
  {
   "cell_type": "code",
   "execution_count": 36,
   "id": "ab88da12",
   "metadata": {},
   "outputs": [
    {
     "data": {
      "text/html": [
       "<div>\n",
       "<style scoped>\n",
       "    .dataframe tbody tr th:only-of-type {\n",
       "        vertical-align: middle;\n",
       "    }\n",
       "\n",
       "    .dataframe tbody tr th {\n",
       "        vertical-align: top;\n",
       "    }\n",
       "\n",
       "    .dataframe thead th {\n",
       "        text-align: right;\n",
       "    }\n",
       "</style>\n",
       "<table border=\"1\" class=\"dataframe\">\n",
       "  <thead>\n",
       "    <tr style=\"text-align: right;\">\n",
       "      <th></th>\n",
       "      <th>employee_id</th>\n",
       "      <th>department</th>\n",
       "      <th>region</th>\n",
       "      <th>education</th>\n",
       "      <th>gender</th>\n",
       "      <th>recruitment_channel</th>\n",
       "      <th>no_of_trainings</th>\n",
       "      <th>age</th>\n",
       "      <th>previous_year_rating</th>\n",
       "      <th>length_of_service</th>\n",
       "      <th>KPIs_met &gt;80%</th>\n",
       "      <th>awards_won?</th>\n",
       "      <th>avg_training_score</th>\n",
       "      <th>is_promoted</th>\n",
       "    </tr>\n",
       "  </thead>\n",
       "  <tbody>\n",
       "    <tr>\n",
       "      <th>count</th>\n",
       "      <td>54808.000000</td>\n",
       "      <td>54808.000000</td>\n",
       "      <td>54808.000000</td>\n",
       "      <td>54808.000000</td>\n",
       "      <td>54808.000000</td>\n",
       "      <td>54808.000000</td>\n",
       "      <td>54808.000000</td>\n",
       "      <td>54808.000000</td>\n",
       "      <td>54808.000000</td>\n",
       "      <td>54808.000000</td>\n",
       "      <td>54808.000000</td>\n",
       "      <td>54808.000000</td>\n",
       "      <td>54808.000000</td>\n",
       "      <td>54808.000000</td>\n",
       "    </tr>\n",
       "    <tr>\n",
       "      <th>mean</th>\n",
       "      <td>39195.830627</td>\n",
       "      <td>4.972796</td>\n",
       "      <td>15.428970</td>\n",
       "      <td>1.301690</td>\n",
       "      <td>0.297621</td>\n",
       "      <td>0.465334</td>\n",
       "      <td>1.253011</td>\n",
       "      <td>34.488578</td>\n",
       "      <td>3.304481</td>\n",
       "      <td>5.688129</td>\n",
       "      <td>0.351974</td>\n",
       "      <td>0.023172</td>\n",
       "      <td>63.386750</td>\n",
       "      <td>0.085170</td>\n",
       "    </tr>\n",
       "    <tr>\n",
       "      <th>std</th>\n",
       "      <td>22586.581449</td>\n",
       "      <td>2.506046</td>\n",
       "      <td>8.764954</td>\n",
       "      <td>0.489952</td>\n",
       "      <td>0.457216</td>\n",
       "      <td>0.538959</td>\n",
       "      <td>0.609264</td>\n",
       "      <td>6.884666</td>\n",
       "      <td>1.214770</td>\n",
       "      <td>3.689403</td>\n",
       "      <td>0.477590</td>\n",
       "      <td>0.150450</td>\n",
       "      <td>13.371559</td>\n",
       "      <td>0.279137</td>\n",
       "    </tr>\n",
       "    <tr>\n",
       "      <th>min</th>\n",
       "      <td>1.000000</td>\n",
       "      <td>0.000000</td>\n",
       "      <td>0.000000</td>\n",
       "      <td>1.000000</td>\n",
       "      <td>0.000000</td>\n",
       "      <td>0.000000</td>\n",
       "      <td>1.000000</td>\n",
       "      <td>20.000000</td>\n",
       "      <td>1.000000</td>\n",
       "      <td>1.000000</td>\n",
       "      <td>0.000000</td>\n",
       "      <td>0.000000</td>\n",
       "      <td>39.000000</td>\n",
       "      <td>0.000000</td>\n",
       "    </tr>\n",
       "    <tr>\n",
       "      <th>25%</th>\n",
       "      <td>19669.750000</td>\n",
       "      <td>4.000000</td>\n",
       "      <td>11.000000</td>\n",
       "      <td>1.000000</td>\n",
       "      <td>0.000000</td>\n",
       "      <td>0.000000</td>\n",
       "      <td>1.000000</td>\n",
       "      <td>29.000000</td>\n",
       "      <td>3.000000</td>\n",
       "      <td>3.000000</td>\n",
       "      <td>0.000000</td>\n",
       "      <td>0.000000</td>\n",
       "      <td>51.000000</td>\n",
       "      <td>0.000000</td>\n",
       "    </tr>\n",
       "    <tr>\n",
       "      <th>50%</th>\n",
       "      <td>39225.500000</td>\n",
       "      <td>5.000000</td>\n",
       "      <td>14.000000</td>\n",
       "      <td>1.000000</td>\n",
       "      <td>0.000000</td>\n",
       "      <td>0.000000</td>\n",
       "      <td>1.000000</td>\n",
       "      <td>33.000000</td>\n",
       "      <td>3.000000</td>\n",
       "      <td>5.000000</td>\n",
       "      <td>0.000000</td>\n",
       "      <td>0.000000</td>\n",
       "      <td>60.000000</td>\n",
       "      <td>0.000000</td>\n",
       "    </tr>\n",
       "    <tr>\n",
       "      <th>75%</th>\n",
       "      <td>58730.500000</td>\n",
       "      <td>7.000000</td>\n",
       "      <td>21.000000</td>\n",
       "      <td>2.000000</td>\n",
       "      <td>1.000000</td>\n",
       "      <td>1.000000</td>\n",
       "      <td>1.000000</td>\n",
       "      <td>39.000000</td>\n",
       "      <td>4.000000</td>\n",
       "      <td>7.000000</td>\n",
       "      <td>1.000000</td>\n",
       "      <td>0.000000</td>\n",
       "      <td>76.000000</td>\n",
       "      <td>0.000000</td>\n",
       "    </tr>\n",
       "    <tr>\n",
       "      <th>max</th>\n",
       "      <td>78298.000000</td>\n",
       "      <td>8.000000</td>\n",
       "      <td>33.000000</td>\n",
       "      <td>3.000000</td>\n",
       "      <td>1.000000</td>\n",
       "      <td>2.000000</td>\n",
       "      <td>10.000000</td>\n",
       "      <td>49.000000</td>\n",
       "      <td>5.000000</td>\n",
       "      <td>15.000000</td>\n",
       "      <td>1.000000</td>\n",
       "      <td>1.000000</td>\n",
       "      <td>99.000000</td>\n",
       "      <td>1.000000</td>\n",
       "    </tr>\n",
       "  </tbody>\n",
       "</table>\n",
       "</div>"
      ],
      "text/plain": [
       "        employee_id    department        region     education        gender  \\\n",
       "count  54808.000000  54808.000000  54808.000000  54808.000000  54808.000000   \n",
       "mean   39195.830627      4.972796     15.428970      1.301690      0.297621   \n",
       "std    22586.581449      2.506046      8.764954      0.489952      0.457216   \n",
       "min        1.000000      0.000000      0.000000      1.000000      0.000000   \n",
       "25%    19669.750000      4.000000     11.000000      1.000000      0.000000   \n",
       "50%    39225.500000      5.000000     14.000000      1.000000      0.000000   \n",
       "75%    58730.500000      7.000000     21.000000      2.000000      1.000000   \n",
       "max    78298.000000      8.000000     33.000000      3.000000      1.000000   \n",
       "\n",
       "       recruitment_channel  no_of_trainings           age  \\\n",
       "count         54808.000000     54808.000000  54808.000000   \n",
       "mean              0.465334         1.253011     34.488578   \n",
       "std               0.538959         0.609264      6.884666   \n",
       "min               0.000000         1.000000     20.000000   \n",
       "25%               0.000000         1.000000     29.000000   \n",
       "50%               0.000000         1.000000     33.000000   \n",
       "75%               1.000000         1.000000     39.000000   \n",
       "max               2.000000        10.000000     49.000000   \n",
       "\n",
       "       previous_year_rating  length_of_service  KPIs_met >80%   awards_won?  \\\n",
       "count          54808.000000       54808.000000   54808.000000  54808.000000   \n",
       "mean               3.304481           5.688129       0.351974      0.023172   \n",
       "std                1.214770           3.689403       0.477590      0.150450   \n",
       "min                1.000000           1.000000       0.000000      0.000000   \n",
       "25%                3.000000           3.000000       0.000000      0.000000   \n",
       "50%                3.000000           5.000000       0.000000      0.000000   \n",
       "75%                4.000000           7.000000       1.000000      0.000000   \n",
       "max                5.000000          15.000000       1.000000      1.000000   \n",
       "\n",
       "       avg_training_score   is_promoted  \n",
       "count        54808.000000  54808.000000  \n",
       "mean            63.386750      0.085170  \n",
       "std             13.371559      0.279137  \n",
       "min             39.000000      0.000000  \n",
       "25%             51.000000      0.000000  \n",
       "50%             60.000000      0.000000  \n",
       "75%             76.000000      0.000000  \n",
       "max             99.000000      1.000000  "
      ]
     },
     "execution_count": 36,
     "metadata": {},
     "output_type": "execute_result"
    }
   ],
   "source": [
    "df.describe()"
   ]
  },
  {
   "cell_type": "code",
   "execution_count": 37,
   "id": "efccb9d4",
   "metadata": {},
   "outputs": [],
   "source": [
    "X =X.drop('employee_id', axis =1)"
   ]
  },
  {
   "cell_type": "code",
   "execution_count": 38,
   "id": "55992b55",
   "metadata": {},
   "outputs": [],
   "source": [
    "from sklearn.preprocessing import StandardScaler\n",
    "sc  = StandardScaler()\n",
    "sc.fit(X)\n",
    "X = pd.DataFrame(sc.transform(X), columns = X.columns)"
   ]
  },
  {
   "cell_type": "code",
   "execution_count": 39,
   "id": "6cf566d5",
   "metadata": {},
   "outputs": [
    {
     "data": {
      "text/plain": [
       "['scaler.sav']"
      ]
     },
     "execution_count": 39,
     "metadata": {},
     "output_type": "execute_result"
    }
   ],
   "source": [
    "joblib.dump(sc, 'scaler.sav')"
   ]
  },
  {
   "cell_type": "code",
   "execution_count": 40,
   "id": "c49a641a",
   "metadata": {},
   "outputs": [
    {
     "data": {
      "text/html": [
       "<div>\n",
       "<style scoped>\n",
       "    .dataframe tbody tr th:only-of-type {\n",
       "        vertical-align: middle;\n",
       "    }\n",
       "\n",
       "    .dataframe tbody tr th {\n",
       "        vertical-align: top;\n",
       "    }\n",
       "\n",
       "    .dataframe thead th {\n",
       "        text-align: right;\n",
       "    }\n",
       "</style>\n",
       "<table border=\"1\" class=\"dataframe\">\n",
       "  <thead>\n",
       "    <tr style=\"text-align: right;\">\n",
       "      <th></th>\n",
       "      <th>department</th>\n",
       "      <th>region</th>\n",
       "      <th>education</th>\n",
       "      <th>gender</th>\n",
       "      <th>recruitment_channel</th>\n",
       "      <th>no_of_trainings</th>\n",
       "      <th>age</th>\n",
       "      <th>previous_year_rating</th>\n",
       "      <th>length_of_service</th>\n",
       "      <th>KPIs_met &gt;80%</th>\n",
       "      <th>awards_won?</th>\n",
       "      <th>avg_training_score</th>\n",
       "    </tr>\n",
       "  </thead>\n",
       "  <tbody>\n",
       "    <tr>\n",
       "      <th>count</th>\n",
       "      <td>5.480800e+04</td>\n",
       "      <td>5.480800e+04</td>\n",
       "      <td>5.480800e+04</td>\n",
       "      <td>5.480800e+04</td>\n",
       "      <td>5.480800e+04</td>\n",
       "      <td>5.480800e+04</td>\n",
       "      <td>5.480800e+04</td>\n",
       "      <td>5.480800e+04</td>\n",
       "      <td>5.480800e+04</td>\n",
       "      <td>5.480800e+04</td>\n",
       "      <td>5.480800e+04</td>\n",
       "      <td>5.480800e+04</td>\n",
       "    </tr>\n",
       "    <tr>\n",
       "      <th>mean</th>\n",
       "      <td>-3.590845e-16</td>\n",
       "      <td>1.532517e-16</td>\n",
       "      <td>-1.895166e-16</td>\n",
       "      <td>2.879879e-16</td>\n",
       "      <td>-1.486226e-17</td>\n",
       "      <td>-4.077590e-16</td>\n",
       "      <td>-3.300770e-16</td>\n",
       "      <td>-2.250750e-16</td>\n",
       "      <td>4.950376e-16</td>\n",
       "      <td>1.447678e-15</td>\n",
       "      <td>7.609833e-16</td>\n",
       "      <td>8.639840e-17</td>\n",
       "    </tr>\n",
       "    <tr>\n",
       "      <th>std</th>\n",
       "      <td>1.000009e+00</td>\n",
       "      <td>1.000009e+00</td>\n",
       "      <td>1.000009e+00</td>\n",
       "      <td>1.000009e+00</td>\n",
       "      <td>1.000009e+00</td>\n",
       "      <td>1.000009e+00</td>\n",
       "      <td>1.000009e+00</td>\n",
       "      <td>1.000009e+00</td>\n",
       "      <td>1.000009e+00</td>\n",
       "      <td>1.000009e+00</td>\n",
       "      <td>1.000009e+00</td>\n",
       "      <td>1.000009e+00</td>\n",
       "    </tr>\n",
       "    <tr>\n",
       "      <th>min</th>\n",
       "      <td>-1.984338e+00</td>\n",
       "      <td>-1.760319e+00</td>\n",
       "      <td>-6.157593e-01</td>\n",
       "      <td>-6.509473e-01</td>\n",
       "      <td>-8.634018e-01</td>\n",
       "      <td>-4.152762e-01</td>\n",
       "      <td>-2.104490e+00</td>\n",
       "      <td>-1.897069e+00</td>\n",
       "      <td>-1.270713e+00</td>\n",
       "      <td>-7.369860e-01</td>\n",
       "      <td>-1.540178e-01</td>\n",
       "      <td>-1.823794e+00</td>\n",
       "    </tr>\n",
       "    <tr>\n",
       "      <th>25%</th>\n",
       "      <td>-3.881832e-01</td>\n",
       "      <td>-5.053091e-01</td>\n",
       "      <td>-6.157593e-01</td>\n",
       "      <td>-6.509473e-01</td>\n",
       "      <td>-8.634018e-01</td>\n",
       "      <td>-4.152762e-01</td>\n",
       "      <td>-7.972250e-01</td>\n",
       "      <td>-2.506515e-01</td>\n",
       "      <td>-7.286149e-01</td>\n",
       "      <td>-7.369860e-01</td>\n",
       "      <td>-1.540178e-01</td>\n",
       "      <td>-9.263589e-01</td>\n",
       "    </tr>\n",
       "    <tr>\n",
       "      <th>50%</th>\n",
       "      <td>1.085547e-02</td>\n",
       "      <td>-1.630338e-01</td>\n",
       "      <td>-6.157593e-01</td>\n",
       "      <td>-6.509473e-01</td>\n",
       "      <td>-8.634018e-01</td>\n",
       "      <td>-4.152762e-01</td>\n",
       "      <td>-2.162184e-01</td>\n",
       "      <td>-2.506515e-01</td>\n",
       "      <td>-1.865168e-01</td>\n",
       "      <td>-7.369860e-01</td>\n",
       "      <td>-1.540178e-01</td>\n",
       "      <td>-2.532824e-01</td>\n",
       "    </tr>\n",
       "    <tr>\n",
       "      <th>75%</th>\n",
       "      <td>8.089329e-01</td>\n",
       "      <td>6.356087e-01</td>\n",
       "      <td>1.425277e+00</td>\n",
       "      <td>1.536223e+00</td>\n",
       "      <td>9.920455e-01</td>\n",
       "      <td>-4.152762e-01</td>\n",
       "      <td>6.552914e-01</td>\n",
       "      <td>5.725572e-01</td>\n",
       "      <td>3.555812e-01</td>\n",
       "      <td>1.356878e+00</td>\n",
       "      <td>-1.540178e-01</td>\n",
       "      <td>9.432980e-01</td>\n",
       "    </tr>\n",
       "    <tr>\n",
       "      <th>max</th>\n",
       "      <td>1.207972e+00</td>\n",
       "      <td>2.004710e+00</td>\n",
       "      <td>3.466313e+00</td>\n",
       "      <td>1.536223e+00</td>\n",
       "      <td>2.847493e+00</td>\n",
       "      <td>1.435678e+01</td>\n",
       "      <td>2.107808e+00</td>\n",
       "      <td>1.395766e+00</td>\n",
       "      <td>2.523973e+00</td>\n",
       "      <td>1.356878e+00</td>\n",
       "      <td>6.492758e+00</td>\n",
       "      <td>2.663382e+00</td>\n",
       "    </tr>\n",
       "  </tbody>\n",
       "</table>\n",
       "</div>"
      ],
      "text/plain": [
       "         department        region     education        gender  \\\n",
       "count  5.480800e+04  5.480800e+04  5.480800e+04  5.480800e+04   \n",
       "mean  -3.590845e-16  1.532517e-16 -1.895166e-16  2.879879e-16   \n",
       "std    1.000009e+00  1.000009e+00  1.000009e+00  1.000009e+00   \n",
       "min   -1.984338e+00 -1.760319e+00 -6.157593e-01 -6.509473e-01   \n",
       "25%   -3.881832e-01 -5.053091e-01 -6.157593e-01 -6.509473e-01   \n",
       "50%    1.085547e-02 -1.630338e-01 -6.157593e-01 -6.509473e-01   \n",
       "75%    8.089329e-01  6.356087e-01  1.425277e+00  1.536223e+00   \n",
       "max    1.207972e+00  2.004710e+00  3.466313e+00  1.536223e+00   \n",
       "\n",
       "       recruitment_channel  no_of_trainings           age  \\\n",
       "count         5.480800e+04     5.480800e+04  5.480800e+04   \n",
       "mean         -1.486226e-17    -4.077590e-16 -3.300770e-16   \n",
       "std           1.000009e+00     1.000009e+00  1.000009e+00   \n",
       "min          -8.634018e-01    -4.152762e-01 -2.104490e+00   \n",
       "25%          -8.634018e-01    -4.152762e-01 -7.972250e-01   \n",
       "50%          -8.634018e-01    -4.152762e-01 -2.162184e-01   \n",
       "75%           9.920455e-01    -4.152762e-01  6.552914e-01   \n",
       "max           2.847493e+00     1.435678e+01  2.107808e+00   \n",
       "\n",
       "       previous_year_rating  length_of_service  KPIs_met >80%   awards_won?  \\\n",
       "count          5.480800e+04       5.480800e+04   5.480800e+04  5.480800e+04   \n",
       "mean          -2.250750e-16       4.950376e-16   1.447678e-15  7.609833e-16   \n",
       "std            1.000009e+00       1.000009e+00   1.000009e+00  1.000009e+00   \n",
       "min           -1.897069e+00      -1.270713e+00  -7.369860e-01 -1.540178e-01   \n",
       "25%           -2.506515e-01      -7.286149e-01  -7.369860e-01 -1.540178e-01   \n",
       "50%           -2.506515e-01      -1.865168e-01  -7.369860e-01 -1.540178e-01   \n",
       "75%            5.725572e-01       3.555812e-01   1.356878e+00 -1.540178e-01   \n",
       "max            1.395766e+00       2.523973e+00   1.356878e+00  6.492758e+00   \n",
       "\n",
       "       avg_training_score  \n",
       "count        5.480800e+04  \n",
       "mean         8.639840e-17  \n",
       "std          1.000009e+00  \n",
       "min         -1.823794e+00  \n",
       "25%         -9.263589e-01  \n",
       "50%         -2.532824e-01  \n",
       "75%          9.432980e-01  \n",
       "max          2.663382e+00  "
      ]
     },
     "execution_count": 40,
     "metadata": {},
     "output_type": "execute_result"
    }
   ],
   "source": [
    "X.describe()"
   ]
  },
  {
   "cell_type": "code",
   "execution_count": 41,
   "id": "a3f0c664",
   "metadata": {},
   "outputs": [
    {
     "data": {
      "text/plain": [
       "['pca.sav']"
      ]
     },
     "execution_count": 41,
     "metadata": {},
     "output_type": "execute_result"
    }
   ],
   "source": [
    "from sklearn.decomposition import PCA\n",
    "pca = PCA(n_components = 1)\n",
    "pca.fit(X)\n",
    "x_pca = pca.transform(X)\n",
    "X['pca1'] = x_pca\n",
    "joblib.dump(pca, 'pca.sav')\n"
   ]
  },
  {
   "cell_type": "code",
   "execution_count": 42,
   "id": "1ec6442b",
   "metadata": {},
   "outputs": [],
   "source": [
    "from sklearn.model_selection import train_test_split\n",
    "X_train,X_test,y_train,y_test = train_test_split(X,y,test_size = .2, random_state = 42)"
   ]
  },
  {
   "cell_type": "code",
   "execution_count": 43,
   "id": "723aa481",
   "metadata": {},
   "outputs": [],
   "source": [
    "from sklearn.metrics import confusion_matrix,f1_score"
   ]
  },
  {
   "cell_type": "code",
   "execution_count": 44,
   "id": "d0a5a47f",
   "metadata": {},
   "outputs": [
    {
     "data": {
      "text/plain": [
       "GridSearchCV(cv=5, estimator=RandomForestClassifier(), n_jobs=-1,\n",
       "             param_grid={'max_depth': [15, None], 'n_estimators': [200, 400]},\n",
       "             scoring='accuracy')"
      ]
     },
     "execution_count": 44,
     "metadata": {},
     "output_type": "execute_result"
    }
   ],
   "source": [
    "from sklearn.ensemble import RandomForestClassifier\n",
    "from sklearn.model_selection import GridSearchCV\n",
    "rf =RandomForestClassifier()\n",
    "parameters = { 'n_estimators': [200,400], \n",
    "               'max_depth': [15,None] ,\n",
    "                            }\n",
    "cv = GridSearchCV(rf, parameters, cv =5, scoring ='accuracy',n_jobs =-1)\n",
    "cv.fit(X_train, y_train)\n",
    "cv"
   ]
  },
  {
   "cell_type": "code",
   "execution_count": 45,
   "id": "720bb772",
   "metadata": {},
   "outputs": [
    {
     "name": "stdout",
     "output_type": "stream",
     "text": [
      "{'max_depth': None, 'n_estimators': 400} 0.9314418562436113\n"
     ]
    },
    {
     "data": {
      "text/plain": [
       "RandomForestClassifier(n_estimators=400)"
      ]
     },
     "execution_count": 45,
     "metadata": {},
     "output_type": "execute_result"
    }
   ],
   "source": [
    "print(cv.best_params_, cv.best_score_)\n",
    "depth = cv.best_params_['max_depth']\n",
    "estimators = cv.best_params_['n_estimators']\n",
    "rf1 = RandomForestClassifier(max_depth = depth , n_estimators = estimators)\n",
    "rf1.fit(X_train,y_train)"
   ]
  },
  {
   "cell_type": "code",
   "execution_count": 46,
   "id": "319344bc",
   "metadata": {},
   "outputs": [
    {
     "data": {
      "text/plain": [
       "(0.40632805995004156,\n",
       " array([[10005,    49],\n",
       "        [  664,   244]], dtype=int64))"
      ]
     },
     "execution_count": 46,
     "metadata": {},
     "output_type": "execute_result"
    }
   ],
   "source": [
    "y_pred = rf1.predict(X_test)\n",
    "f1_score(y_test, y_pred), confusion_matrix(y_test, y_pred)"
   ]
  },
  {
   "cell_type": "code",
   "execution_count": 47,
   "id": "8dad110b",
   "metadata": {},
   "outputs": [
    {
     "data": {
      "text/plain": [
       "['rf1.sav']"
      ]
     },
     "execution_count": 47,
     "metadata": {},
     "output_type": "execute_result"
    }
   ],
   "source": [
    "import joblib\n",
    "joblib.dump(rf1, 'rf1.sav')"
   ]
  },
  {
   "cell_type": "code",
   "execution_count": 48,
   "id": "0429004f",
   "metadata": {},
   "outputs": [
    {
     "data": {
      "text/plain": [
       "GridSearchCV(cv=5, estimator=GradientBoostingClassifier(),\n",
       "             param_grid={'learning_rate': [0.01, 0.1], 'max_depth': [1, 3, 5],\n",
       "                         'n_estimators': [100, 300, 500]})"
      ]
     },
     "execution_count": 48,
     "metadata": {},
     "output_type": "execute_result"
    }
   ],
   "source": [
    "#GradientBoostingClassifier\n",
    "from sklearn.ensemble import GradientBoostingClassifier\n",
    "gb = GradientBoostingClassifier()\n",
    "parameters = { \n",
    "    'n_estimators':[ 100, 300, 500],\n",
    "    'max_depth':[1,3,5],\n",
    "    'learning_rate': [.01, .1]\n",
    "}\n",
    "cvgb = GridSearchCV(gb, parameters, cv =5)\n",
    "cvgb.fit(X_train, y_train)"
   ]
  },
  {
   "cell_type": "code",
   "execution_count": 49,
   "id": "f7d97708",
   "metadata": {},
   "outputs": [
    {
     "name": "stdout",
     "output_type": "stream",
     "text": [
      "GradientBoostingClassifier(max_depth=5)\n",
      "{'learning_rate': 0.1, 'max_depth': 5, 'n_estimators': 100}\n"
     ]
    },
    {
     "data": {
      "text/plain": [
       "(0.4823625922887613,\n",
       " array([[10037,    17],\n",
       "        [  614,   294]], dtype=int64))"
      ]
     },
     "execution_count": 49,
     "metadata": {},
     "output_type": "execute_result"
    }
   ],
   "source": [
    "print(cvgb.best_estimator_)\n",
    "print(cvgb.best_params_)\n",
    "lr = cvgb.best_params_['learning_rate']\n",
    "depth = cvgb.best_params_['max_depth']\n",
    "estimators = cvgb.best_params_['n_estimators']\n",
    "\n",
    "gb1 = GradientBoostingClassifier(learning_rate=lr, max_depth=depth, n_estimators=estimators)\n",
    "gb1.fit(X_train, y_train)\n",
    "gb1_pred = gb1.predict(X_test)\n",
    "f1_score(y_test, gb1_pred), confusion_matrix(y_test, gb1_pred)"
   ]
  },
  {
   "cell_type": "code",
   "execution_count": 50,
   "id": "1fae4d78",
   "metadata": {},
   "outputs": [
    {
     "data": {
      "text/plain": [
       "['gb1.sav']"
      ]
     },
     "execution_count": 50,
     "metadata": {},
     "output_type": "execute_result"
    }
   ],
   "source": [
    "joblib.dump(gb1, 'gb1.sav')"
   ]
  },
  {
   "cell_type": "code",
   "execution_count": 51,
   "id": "8501df7a",
   "metadata": {},
   "outputs": [
    {
     "data": {
      "text/plain": [
       "(0.5074862096138693,\n",
       " array([[10015,    39],\n",
       "        [  586,   322]], dtype=int64))"
      ]
     },
     "execution_count": 51,
     "metadata": {},
     "output_type": "execute_result"
    }
   ],
   "source": [
    "from xgboost import XGBClassifier\n",
    "xgbc = XGBClassifier()\n",
    "xgbc.fit(X_train, y_train)\n",
    "xgb1_pred = xgbc.predict(X_test)\n",
    "f1_score(y_test, xgb1_pred), confusion_matrix(y_test, xgb1_pred )"
   ]
  },
  {
   "cell_type": "code",
   "execution_count": 52,
   "id": "d6add866",
   "metadata": {},
   "outputs": [
    {
     "data": {
      "text/plain": [
       "['xgbc.sav']"
      ]
     },
     "execution_count": 52,
     "metadata": {},
     "output_type": "execute_result"
    }
   ],
   "source": [
    "joblib.dump(xgbc, 'xgbc.sav')"
   ]
  },
  {
   "cell_type": "code",
   "execution_count": null,
   "id": "4119495e",
   "metadata": {},
   "outputs": [],
   "source": []
  }
 ],
 "metadata": {
  "kernelspec": {
   "display_name": "Python 3 (ipykernel)",
   "language": "python",
   "name": "python3"
  },
  "language_info": {
   "codemirror_mode": {
    "name": "ipython",
    "version": 3
   },
   "file_extension": ".py",
   "mimetype": "text/x-python",
   "name": "python",
   "nbconvert_exporter": "python",
   "pygments_lexer": "ipython3",
   "version": "3.9.7"
  }
 },
 "nbformat": 4,
 "nbformat_minor": 5
}
