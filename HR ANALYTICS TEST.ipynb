{
 "cells": [
  {
   "cell_type": "code",
   "execution_count": 1,
   "id": "e9fe255b",
   "metadata": {},
   "outputs": [],
   "source": [
    "import pandas as pd\n",
    "import numpy as np\n",
    "import matplotlib.pyplot as plt\n",
    "import seaborn as sns"
   ]
  },
  {
   "cell_type": "code",
   "execution_count": 2,
   "id": "5fb01f02",
   "metadata": {},
   "outputs": [],
   "source": [
    "df = pd.read_csv('test_2umaH9m.csv')"
   ]
  },
  {
   "cell_type": "code",
   "execution_count": 3,
   "id": "e12fb871",
   "metadata": {},
   "outputs": [
    {
     "data": {
      "text/html": [
       "<div>\n",
       "<style scoped>\n",
       "    .dataframe tbody tr th:only-of-type {\n",
       "        vertical-align: middle;\n",
       "    }\n",
       "\n",
       "    .dataframe tbody tr th {\n",
       "        vertical-align: top;\n",
       "    }\n",
       "\n",
       "    .dataframe thead th {\n",
       "        text-align: right;\n",
       "    }\n",
       "</style>\n",
       "<table border=\"1\" class=\"dataframe\">\n",
       "  <thead>\n",
       "    <tr style=\"text-align: right;\">\n",
       "      <th></th>\n",
       "      <th>employee_id</th>\n",
       "      <th>department</th>\n",
       "      <th>region</th>\n",
       "      <th>education</th>\n",
       "      <th>gender</th>\n",
       "      <th>recruitment_channel</th>\n",
       "      <th>no_of_trainings</th>\n",
       "      <th>age</th>\n",
       "      <th>previous_year_rating</th>\n",
       "      <th>length_of_service</th>\n",
       "      <th>KPIs_met &gt;80%</th>\n",
       "      <th>awards_won?</th>\n",
       "      <th>avg_training_score</th>\n",
       "    </tr>\n",
       "  </thead>\n",
       "  <tbody>\n",
       "    <tr>\n",
       "      <th>0</th>\n",
       "      <td>8724</td>\n",
       "      <td>Technology</td>\n",
       "      <td>region_26</td>\n",
       "      <td>Bachelor's</td>\n",
       "      <td>m</td>\n",
       "      <td>sourcing</td>\n",
       "      <td>1</td>\n",
       "      <td>24</td>\n",
       "      <td>NaN</td>\n",
       "      <td>1</td>\n",
       "      <td>1</td>\n",
       "      <td>0</td>\n",
       "      <td>77</td>\n",
       "    </tr>\n",
       "    <tr>\n",
       "      <th>1</th>\n",
       "      <td>74430</td>\n",
       "      <td>HR</td>\n",
       "      <td>region_4</td>\n",
       "      <td>Bachelor's</td>\n",
       "      <td>f</td>\n",
       "      <td>other</td>\n",
       "      <td>1</td>\n",
       "      <td>31</td>\n",
       "      <td>3.0</td>\n",
       "      <td>5</td>\n",
       "      <td>0</td>\n",
       "      <td>0</td>\n",
       "      <td>51</td>\n",
       "    </tr>\n",
       "    <tr>\n",
       "      <th>2</th>\n",
       "      <td>72255</td>\n",
       "      <td>Sales &amp; Marketing</td>\n",
       "      <td>region_13</td>\n",
       "      <td>Bachelor's</td>\n",
       "      <td>m</td>\n",
       "      <td>other</td>\n",
       "      <td>1</td>\n",
       "      <td>31</td>\n",
       "      <td>1.0</td>\n",
       "      <td>4</td>\n",
       "      <td>0</td>\n",
       "      <td>0</td>\n",
       "      <td>47</td>\n",
       "    </tr>\n",
       "    <tr>\n",
       "      <th>3</th>\n",
       "      <td>38562</td>\n",
       "      <td>Procurement</td>\n",
       "      <td>region_2</td>\n",
       "      <td>Bachelor's</td>\n",
       "      <td>f</td>\n",
       "      <td>other</td>\n",
       "      <td>3</td>\n",
       "      <td>31</td>\n",
       "      <td>2.0</td>\n",
       "      <td>9</td>\n",
       "      <td>0</td>\n",
       "      <td>0</td>\n",
       "      <td>65</td>\n",
       "    </tr>\n",
       "    <tr>\n",
       "      <th>4</th>\n",
       "      <td>64486</td>\n",
       "      <td>Finance</td>\n",
       "      <td>region_29</td>\n",
       "      <td>Bachelor's</td>\n",
       "      <td>m</td>\n",
       "      <td>sourcing</td>\n",
       "      <td>1</td>\n",
       "      <td>30</td>\n",
       "      <td>4.0</td>\n",
       "      <td>7</td>\n",
       "      <td>0</td>\n",
       "      <td>0</td>\n",
       "      <td>61</td>\n",
       "    </tr>\n",
       "  </tbody>\n",
       "</table>\n",
       "</div>"
      ],
      "text/plain": [
       "   employee_id         department     region   education gender  \\\n",
       "0         8724         Technology  region_26  Bachelor's      m   \n",
       "1        74430                 HR   region_4  Bachelor's      f   \n",
       "2        72255  Sales & Marketing  region_13  Bachelor's      m   \n",
       "3        38562        Procurement   region_2  Bachelor's      f   \n",
       "4        64486            Finance  region_29  Bachelor's      m   \n",
       "\n",
       "  recruitment_channel  no_of_trainings  age  previous_year_rating  \\\n",
       "0            sourcing                1   24                   NaN   \n",
       "1               other                1   31                   3.0   \n",
       "2               other                1   31                   1.0   \n",
       "3               other                3   31                   2.0   \n",
       "4            sourcing                1   30                   4.0   \n",
       "\n",
       "   length_of_service  KPIs_met >80%  awards_won?  avg_training_score  \n",
       "0                  1              1            0                  77  \n",
       "1                  5              0            0                  51  \n",
       "2                  4              0            0                  47  \n",
       "3                  9              0            0                  65  \n",
       "4                  7              0            0                  61  "
      ]
     },
     "execution_count": 3,
     "metadata": {},
     "output_type": "execute_result"
    }
   ],
   "source": [
    "df.head()"
   ]
  },
  {
   "cell_type": "code",
   "execution_count": 4,
   "id": "39afd342",
   "metadata": {},
   "outputs": [
    {
     "data": {
      "text/plain": [
       "employee_id                0\n",
       "department                 0\n",
       "region                     0\n",
       "education               1034\n",
       "gender                     0\n",
       "recruitment_channel        0\n",
       "no_of_trainings            0\n",
       "age                        0\n",
       "previous_year_rating    1812\n",
       "length_of_service          0\n",
       "KPIs_met >80%              0\n",
       "awards_won?                0\n",
       "avg_training_score         0\n",
       "dtype: int64"
      ]
     },
     "execution_count": 4,
     "metadata": {},
     "output_type": "execute_result"
    }
   ],
   "source": [
    "df.isna().sum()"
   ]
  },
  {
   "cell_type": "code",
   "execution_count": 5,
   "id": "3551d796",
   "metadata": {},
   "outputs": [],
   "source": [
    "df['previous_year_rating'] = df['previous_year_rating'].fillna(3.0)\n",
    "df['education'] = df['education'].fillna(\"Bachelor's\")"
   ]
  },
  {
   "cell_type": "code",
   "execution_count": 6,
   "id": "b69e431a",
   "metadata": {},
   "outputs": [
    {
     "data": {
      "image/png": "[encoded data removed]",
      "text/plain": [
       "<Figure size 720x720 with 12 Axes>"
      ]
     },
     "metadata": {
      "needs_background": "light"
     },
     "output_type": "display_data"
    }
   ],
   "source": [
    "df.plot(kind ='box', subplots =True,sharex =True,sharey= False, layout = (4,3), figsize=(10,10))\n",
    "plt.show()"
   ]
  },
  {
   "cell_type": "code",
   "execution_count": 7,
   "id": "bfb6cf0e",
   "metadata": {},
   "outputs": [],
   "source": [
    "up = 50\n",
    "df.loc[df['age']>up,'age'] = up\n",
    "df.loc[df['length_of_service']>15.0, 'length_of_service'] = 15.0 #capping"
   ]
  },
  {
   "cell_type": "code",
   "execution_count": 8,
   "id": "402a5788",
   "metadata": {},
   "outputs": [],
   "source": [
    "eds = {\"Bachelor's\": 1, \"Master's & above\" : 2,\"Below Secondary\": 3 }\n",
    "gender = {'m':0, 'f':1}\n",
    "chanl = {'other' : 0, 'sourcing':1 , 'referred':2}\n",
    "df['education'] = df['education'].map(eds)\n",
    "df['gender'] = df['gender'].map(gender)\n",
    "df['recruitment_channel'] = df['recruitment_channel'].map(chanl)\n",
    "#department, region\n",
    "import joblib\n",
    "le1department = joblib.load('le1department.sav')\n",
    "le2region = joblib.load('le2region.sav')"
   ]
  },
  {
   "cell_type": "code",
   "execution_count": 9,
   "id": "c4609622",
   "metadata": {},
   "outputs": [
    {
     "name": "stderr",
     "output_type": "stream",
     "text": [
      "C:\\Users\\zacha\\anaconda3\\lib\\site-packages\\sklearn\\utils\\validation.py:63: DataConversionWarning: A column-vector y was passed when a 1d array was expected. Please change the shape of y to (n_samples, ), for example using ravel().\n",
      "  return f(*args, **kwargs)\n"
     ]
    }
   ],
   "source": [
    "df['region'] = le2region.transform(df[['region']])\n",
    "df['department'] =le1department.transform(df[['department']])"
   ]
  },
  {
   "cell_type": "code",
   "execution_count": 10,
   "id": "a83d8121",
   "metadata": {},
   "outputs": [
    {
     "data": {
      "text/plain": [
       "employee_id             0\n",
       "department              0\n",
       "region                  0\n",
       "education               0\n",
       "gender                  0\n",
       "recruitment_channel     0\n",
       "no_of_trainings         0\n",
       "age                     0\n",
       "previous_year_rating    0\n",
       "length_of_service       0\n",
       "KPIs_met >80%           0\n",
       "awards_won?             0\n",
       "avg_training_score      0\n",
       "dtype: int64"
      ]
     },
     "execution_count": 10,
     "metadata": {},
     "output_type": "execute_result"
    }
   ],
   "source": [
    "df.isna().sum()"
   ]
  },
  {
   "cell_type": "code",
   "execution_count": 11,
   "id": "8b9b562d",
   "metadata": {},
   "outputs": [],
   "source": [
    "X =df.drop('employee_id', axis =1)"
   ]
  },
  {
   "cell_type": "code",
   "execution_count": 12,
   "id": "a730bf75",
   "metadata": {},
   "outputs": [],
   "source": [
    "sc = joblib.load('scaler.sav')"
   ]
  },
  {
   "cell_type": "code",
   "execution_count": 13,
   "id": "58609b94",
   "metadata": {},
   "outputs": [
    {
     "data": {
      "text/html": [
       "<div>\n",
       "<style scoped>\n",
       "    .dataframe tbody tr th:only-of-type {\n",
       "        vertical-align: middle;\n",
       "    }\n",
       "\n",
       "    .dataframe tbody tr th {\n",
       "        vertical-align: top;\n",
       "    }\n",
       "\n",
       "    .dataframe thead th {\n",
       "        text-align: right;\n",
       "    }\n",
       "</style>\n",
       "<table border=\"1\" class=\"dataframe\">\n",
       "  <thead>\n",
       "    <tr style=\"text-align: right;\">\n",
       "      <th></th>\n",
       "      <th>department</th>\n",
       "      <th>region</th>\n",
       "      <th>education</th>\n",
       "      <th>gender</th>\n",
       "      <th>recruitment_channel</th>\n",
       "      <th>no_of_trainings</th>\n",
       "      <th>age</th>\n",
       "      <th>previous_year_rating</th>\n",
       "      <th>length_of_service</th>\n",
       "      <th>KPIs_met &gt;80%</th>\n",
       "      <th>awards_won?</th>\n",
       "      <th>avg_training_score</th>\n",
       "    </tr>\n",
       "  </thead>\n",
       "  <tbody>\n",
       "    <tr>\n",
       "      <th>count</th>\n",
       "      <td>23490.000000</td>\n",
       "      <td>23490.000000</td>\n",
       "      <td>23490.000000</td>\n",
       "      <td>23490.000000</td>\n",
       "      <td>23490.000000</td>\n",
       "      <td>23490.000000</td>\n",
       "      <td>23490.000000</td>\n",
       "      <td>23490.000000</td>\n",
       "      <td>23490.000000</td>\n",
       "      <td>23490.000000</td>\n",
       "      <td>23490.000000</td>\n",
       "      <td>23490.000000</td>\n",
       "    </tr>\n",
       "    <tr>\n",
       "      <th>mean</th>\n",
       "      <td>-0.002140</td>\n",
       "      <td>0.004165</td>\n",
       "      <td>0.014364</td>\n",
       "      <td>-0.009042</td>\n",
       "      <td>-0.005346</td>\n",
       "      <td>0.002011</td>\n",
       "      <td>0.005357</td>\n",
       "      <td>0.007000</td>\n",
       "      <td>-0.012164</td>\n",
       "      <td>0.014363</td>\n",
       "      <td>-0.002633</td>\n",
       "      <td>-0.009245</td>\n",
       "    </tr>\n",
       "    <tr>\n",
       "      <th>std</th>\n",
       "      <td>1.003383</td>\n",
       "      <td>0.995472</td>\n",
       "      <td>1.010815</td>\n",
       "      <td>0.995970</td>\n",
       "      <td>0.994010</td>\n",
       "      <td>0.986297</td>\n",
       "      <td>1.020978</td>\n",
       "      <td>1.001811</td>\n",
       "      <td>0.994293</td>\n",
       "      <td>1.004360</td>\n",
       "      <td>0.991637</td>\n",
       "      <td>1.003015</td>\n",
       "    </tr>\n",
       "    <tr>\n",
       "      <th>min</th>\n",
       "      <td>-1.984338</td>\n",
       "      <td>-1.760319</td>\n",
       "      <td>-0.615759</td>\n",
       "      <td>-0.650947</td>\n",
       "      <td>-0.863402</td>\n",
       "      <td>-0.415276</td>\n",
       "      <td>-2.104490</td>\n",
       "      <td>-1.897069</td>\n",
       "      <td>-1.270713</td>\n",
       "      <td>-0.736986</td>\n",
       "      <td>-0.154018</td>\n",
       "      <td>-1.823794</td>\n",
       "    </tr>\n",
       "    <tr>\n",
       "      <th>25%</th>\n",
       "      <td>-0.388183</td>\n",
       "      <td>-0.505309</td>\n",
       "      <td>-0.615759</td>\n",
       "      <td>-0.650947</td>\n",
       "      <td>-0.863402</td>\n",
       "      <td>-0.415276</td>\n",
       "      <td>-0.797225</td>\n",
       "      <td>-0.250651</td>\n",
       "      <td>-0.728615</td>\n",
       "      <td>-0.736986</td>\n",
       "      <td>-0.154018</td>\n",
       "      <td>-0.926359</td>\n",
       "    </tr>\n",
       "    <tr>\n",
       "      <th>50%</th>\n",
       "      <td>0.010855</td>\n",
       "      <td>-0.163034</td>\n",
       "      <td>-0.615759</td>\n",
       "      <td>-0.650947</td>\n",
       "      <td>-0.863402</td>\n",
       "      <td>-0.415276</td>\n",
       "      <td>-0.216218</td>\n",
       "      <td>-0.250651</td>\n",
       "      <td>-0.186517</td>\n",
       "      <td>-0.736986</td>\n",
       "      <td>-0.154018</td>\n",
       "      <td>-0.253282</td>\n",
       "    </tr>\n",
       "    <tr>\n",
       "      <th>75%</th>\n",
       "      <td>0.808933</td>\n",
       "      <td>0.635609</td>\n",
       "      <td>1.425277</td>\n",
       "      <td>1.536223</td>\n",
       "      <td>0.992045</td>\n",
       "      <td>-0.415276</td>\n",
       "      <td>0.655291</td>\n",
       "      <td>0.572557</td>\n",
       "      <td>0.355581</td>\n",
       "      <td>1.356878</td>\n",
       "      <td>-0.154018</td>\n",
       "      <td>0.943298</td>\n",
       "    </tr>\n",
       "    <tr>\n",
       "      <th>max</th>\n",
       "      <td>1.207972</td>\n",
       "      <td>2.004710</td>\n",
       "      <td>3.466313</td>\n",
       "      <td>1.536223</td>\n",
       "      <td>2.847493</td>\n",
       "      <td>12.715440</td>\n",
       "      <td>2.253059</td>\n",
       "      <td>1.395766</td>\n",
       "      <td>2.523973</td>\n",
       "      <td>1.356878</td>\n",
       "      <td>6.492758</td>\n",
       "      <td>2.663382</td>\n",
       "    </tr>\n",
       "  </tbody>\n",
       "</table>\n",
       "</div>"
      ],
      "text/plain": [
       "         department        region     education        gender  \\\n",
       "count  23490.000000  23490.000000  23490.000000  23490.000000   \n",
       "mean      -0.002140      0.004165      0.014364     -0.009042   \n",
       "std        1.003383      0.995472      1.010815      0.995970   \n",
       "min       -1.984338     -1.760319     -0.615759     -0.650947   \n",
       "25%       -0.388183     -0.505309     -0.615759     -0.650947   \n",
       "50%        0.010855     -0.163034     -0.615759     -0.650947   \n",
       "75%        0.808933      0.635609      1.425277      1.536223   \n",
       "max        1.207972      2.004710      3.466313      1.536223   \n",
       "\n",
       "       recruitment_channel  no_of_trainings           age  \\\n",
       "count         23490.000000     23490.000000  23490.000000   \n",
       "mean             -0.005346         0.002011      0.005357   \n",
       "std               0.994010         0.986297      1.020978   \n",
       "min              -0.863402        -0.415276     -2.104490   \n",
       "25%              -0.863402        -0.415276     -0.797225   \n",
       "50%              -0.863402        -0.415276     -0.216218   \n",
       "75%               0.992045        -0.415276      0.655291   \n",
       "max               2.847493        12.715440      2.253059   \n",
       "\n",
       "       previous_year_rating  length_of_service  KPIs_met >80%   awards_won?  \\\n",
       "count          23490.000000       23490.000000   23490.000000  23490.000000   \n",
       "mean               0.007000          -0.012164       0.014363     -0.002633   \n",
       "std                1.001811           0.994293       1.004360      0.991637   \n",
       "min               -1.897069          -1.270713      -0.736986     -0.154018   \n",
       "25%               -0.250651          -0.728615      -0.736986     -0.154018   \n",
       "50%               -0.250651          -0.186517      -0.736986     -0.154018   \n",
       "75%                0.572557           0.355581       1.356878     -0.154018   \n",
       "max                1.395766           2.523973       1.356878      6.492758   \n",
       "\n",
       "       avg_training_score  \n",
       "count        23490.000000  \n",
       "mean            -0.009245  \n",
       "std              1.003015  \n",
       "min             -1.823794  \n",
       "25%             -0.926359  \n",
       "50%             -0.253282  \n",
       "75%              0.943298  \n",
       "max              2.663382  "
      ]
     },
     "execution_count": 13,
     "metadata": {},
     "output_type": "execute_result"
    }
   ],
   "source": [
    "X = pd.DataFrame(sc.transform(X), columns = X.columns)\n",
    "X.describe()"
   ]
  },
  {
   "cell_type": "code",
   "execution_count": 14,
   "id": "b1662f17",
   "metadata": {},
   "outputs": [],
   "source": [
    "pca = joblib.load('pca.sav')\n",
    "x_pca = pca.transform(X)\n",
    "X['pca1'] = x_pca"
   ]
  },
  {
   "cell_type": "code",
   "execution_count": 15,
   "id": "87f42595",
   "metadata": {},
   "outputs": [],
   "source": [
    "rf1 = joblib.load('rf1.sav')"
   ]
  },
  {
   "cell_type": "code",
   "execution_count": 16,
   "id": "90d135e1",
   "metadata": {},
   "outputs": [],
   "source": [
    "y_pred  = rf1.predict(X)"
   ]
  },
  {
   "cell_type": "code",
   "execution_count": 17,
   "id": "00fdce5c",
   "metadata": {},
   "outputs": [],
   "source": [
    "df['is_promoted'] = y_pred"
   ]
  },
  {
   "cell_type": "code",
   "execution_count": 18,
   "id": "b800b7b1",
   "metadata": {},
   "outputs": [],
   "source": [
    "out = df[['employee_id', 'is_promoted']]\n",
    "out.set_index('employee_id',inplace =True)"
   ]
  },
  {
   "cell_type": "code",
   "execution_count": 19,
   "id": "f026ccd9",
   "metadata": {},
   "outputs": [],
   "source": [
    "out.to_csv('out_rf1.csv')"
   ]
  },
  {
   "cell_type": "code",
   "execution_count": 20,
   "id": "4ad906b1",
   "metadata": {},
   "outputs": [],
   "source": [
    "gb1 = joblib.load('gb1.sav')\n",
    "y_pred  = gb1.predict(X)\n",
    "df['is_promoted'] = y_pred\n",
    "out = df[['employee_id', 'is_promoted']]\n",
    "out.set_index('employee_id',inplace =True)\n",
    "out.to_csv('out_gb1.csv')"
   ]
  },
  {
   "cell_type": "code",
   "execution_count": 21,
   "id": "3928a368",
   "metadata": {},
   "outputs": [],
   "source": [
    "xgbc1 = joblib.load('xgbc.sav')\n",
    "y_pred  = xgbc1.predict(X)\n",
    "df['is_promoted'] = y_pred\n",
    "out = df[['employee_id', 'is_promoted']]\n",
    "out.set_index('employee_id',inplace =True)\n",
    "out.to_csv('out_xgbc1.csv')"
   ]
  },
  {
   "cell_type": "code",
   "execution_count": null,
   "id": "bfb72141",
   "metadata": {},
   "outputs": [],
   "source": []
  }
 ],
 "metadata": {
  "kernelspec": {
   "display_name": "Python 3 (ipykernel)",
   "language": "python",
   "name": "python3"
  },
  "language_info": {
   "codemirror_mode": {
    "name": "ipython",
    "version": 3
   },
   "file_extension": ".py",
   "mimetype": "text/x-python",
   "name": "python",
   "nbconvert_exporter": "python",
   "pygments_lexer": "ipython3",
   "version": "3.9.7"
  }
 },
 "nbformat": 4,
 "nbformat_minor": 5
}
