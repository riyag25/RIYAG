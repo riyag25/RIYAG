{
 "cells": [
  {
   "cell_type": "markdown",
   "id": "ab792681",
   "metadata": {},
   "source": [
    "## Q&A Activity – Week 07\n",
    "1. Carry out descriptive analytics on the dataset.\n",
    "2. Check whether female and male students scored the same marks.\n",
    "3. Whether test preparation helps the students"
   ]
  },
  {
   "cell_type": "code",
   "execution_count": 1,
   "id": "149e1fdb",
   "metadata": {},
   "outputs": [],
   "source": [
    "import numpy as np\n",
    "import pandas as pd\n",
    "import matplotlib.pyplot as plt\n",
    "import seaborn as sns"
   ]
  },
  {
   "cell_type": "code",
   "execution_count": 2,
   "id": "8d737056",
   "metadata": {},
   "outputs": [],
   "source": [
    "df = pd.read_csv(\"dataset w7.csv\")"
   ]
  },
  {
   "cell_type": "markdown",
   "id": "942b9bc7",
   "metadata": {},
   "source": [
    "## 1. Descriptive analysis"
   ]
  },
  {
   "cell_type": "code",
   "execution_count": 3,
   "id": "f71f8215",
   "metadata": {},
   "outputs": [
    {
     "data": {
      "text/html": [
       "<div>\n",
       "<style scoped>\n",
       "    .dataframe tbody tr th:only-of-type {\n",
       "        vertical-align: middle;\n",
       "    }\n",
       "\n",
       "    .dataframe tbody tr th {\n",
       "        vertical-align: top;\n",
       "    }\n",
       "\n",
       "    .dataframe thead th {\n",
       "        text-align: right;\n",
       "    }\n",
       "</style>\n",
       "<table border=\"1\" class=\"dataframe\">\n",
       "  <thead>\n",
       "    <tr style=\"text-align: right;\">\n",
       "      <th></th>\n",
       "      <th>Gender</th>\n",
       "      <th>Test preparation</th>\n",
       "      <th>Total Marks</th>\n",
       "    </tr>\n",
       "  </thead>\n",
       "  <tbody>\n",
       "    <tr>\n",
       "      <th>0</th>\n",
       "      <td>male</td>\n",
       "      <td>none</td>\n",
       "      <td>14</td>\n",
       "    </tr>\n",
       "    <tr>\n",
       "      <th>1</th>\n",
       "      <td>female</td>\n",
       "      <td>none</td>\n",
       "      <td>28</td>\n",
       "    </tr>\n",
       "    <tr>\n",
       "      <th>2</th>\n",
       "      <td>female</td>\n",
       "      <td>none</td>\n",
       "      <td>18</td>\n",
       "    </tr>\n",
       "    <tr>\n",
       "      <th>3</th>\n",
       "      <td>female</td>\n",
       "      <td>none</td>\n",
       "      <td>48</td>\n",
       "    </tr>\n",
       "    <tr>\n",
       "      <th>4</th>\n",
       "      <td>female</td>\n",
       "      <td>none</td>\n",
       "      <td>21</td>\n",
       "    </tr>\n",
       "  </tbody>\n",
       "</table>\n",
       "</div>"
      ],
      "text/plain": [
       "   Gender Test preparation  Total Marks\n",
       "0    male             none           14\n",
       "1  female             none           28\n",
       "2  female             none           18\n",
       "3  female             none           48\n",
       "4  female             none           21"
      ]
     },
     "execution_count": 3,
     "metadata": {},
     "output_type": "execute_result"
    }
   ],
   "source": [
    "df.head()"
   ]
  },
  {
   "cell_type": "code",
   "execution_count": 4,
   "id": "dbbb50db",
   "metadata": {},
   "outputs": [
    {
     "data": {
      "text/plain": [
       "(28, 3)"
      ]
     },
     "execution_count": 4,
     "metadata": {},
     "output_type": "execute_result"
    }
   ],
   "source": [
    "df.shape"
   ]
  },
  {
   "cell_type": "code",
   "execution_count": 5,
   "id": "122cb7cc",
   "metadata": {},
   "outputs": [
    {
     "data": {
      "text/plain": [
       "Gender              object\n",
       "Test preparation    object\n",
       "Total Marks          int64\n",
       "dtype: object"
      ]
     },
     "execution_count": 5,
     "metadata": {},
     "output_type": "execute_result"
    }
   ],
   "source": [
    "df.dtypes"
   ]
  },
  {
   "cell_type": "code",
   "execution_count": 6,
   "id": "4a3ae631",
   "metadata": {},
   "outputs": [
    {
     "data": {
      "text/plain": [
       "<AxesSubplot:xlabel='Gender', ylabel='count'>"
      ]
     },
     "execution_count": 6,
     "metadata": {},
     "output_type": "execute_result"
    },
    {
     "data": {
      "image/png": "[encoded data removed]",
      "text/plain": [
       "<Figure size 432x288 with 1 Axes>"
      ]
     },
     "metadata": {
      "needs_background": "light"
     },
     "output_type": "display_data"
    }
   ],
   "source": [
    "sns.countplot(data = df, x='Gender')"
   ]
  },
  {
   "cell_type": "markdown",
   "id": "44dd333e",
   "metadata": {},
   "source": [
    "***\n",
    "The given data has female count higher than male count. But the difference is small.\n",
    "***"
   ]
  },
  {
   "cell_type": "code",
   "execution_count": 7,
   "id": "cc551540",
   "metadata": {},
   "outputs": [
    {
     "data": {
      "text/plain": [
       "<AxesSubplot:xlabel='Test preparation', ylabel='count'>"
      ]
     },
     "execution_count": 7,
     "metadata": {},
     "output_type": "execute_result"
    },
    {
     "data": {
      "image/png": "[encoded data removed]",
      "text/plain": [
       "<Figure size 432x288 with 1 Axes>"
      ]
     },
     "metadata": {
      "needs_background": "light"
     },
     "output_type": "display_data"
    }
   ],
   "source": [
    "sns.countplot(data = df, x ='Test preparation')"
   ]
  },
  {
   "cell_type": "markdown",
   "id": "d7e69b97",
   "metadata": {},
   "source": [
    "***\n",
    "In the given data, there are only few students whose test preparation status is completed.\n",
    "\n"
   ]
  },
  {
   "cell_type": "code",
   "execution_count": 8,
   "id": "d07abdd2",
   "metadata": {},
   "outputs": [
    {
     "data": {
      "image/png": "[encoded data removed]",
      "text/plain": [
       "<Figure size 864x432 with 2 Axes>"
      ]
     },
     "metadata": {
      "needs_background": "light"
     },
     "output_type": "display_data"
    }
   ],
   "source": [
    "plt.figure(figsize=(12,6))\n",
    "plt.subplot(1,2,1)\n",
    "sns.boxplot(data =df, x= 'Total Marks', y ='Gender')\n",
    "plt.title(\"Gender wise Marks\")\n",
    "plt.ylabel(\"\")\n",
    "plt.subplot(1,2,2)\n",
    "sns.boxplot(data =df, x= 'Total Marks', y ='Test preparation')\n",
    "plt.title(\"Test prep wise Marks\")\n",
    "plt.ylabel(\"\")\n",
    "plt.tight_layout()"
   ]
  },
  {
   "cell_type": "code",
   "execution_count": 9,
   "id": "82663c9a",
   "metadata": {},
   "outputs": [
    {
     "data": {
      "text/html": [
       "<div>\n",
       "<style scoped>\n",
       "    .dataframe tbody tr th:only-of-type {\n",
       "        vertical-align: middle;\n",
       "    }\n",
       "\n",
       "    .dataframe tbody tr th {\n",
       "        vertical-align: top;\n",
       "    }\n",
       "\n",
       "    .dataframe thead th {\n",
       "        text-align: right;\n",
       "    }\n",
       "</style>\n",
       "<table border=\"1\" class=\"dataframe\">\n",
       "  <thead>\n",
       "    <tr style=\"text-align: right;\">\n",
       "      <th></th>\n",
       "      <th>count</th>\n",
       "      <th>mean</th>\n",
       "      <th>std</th>\n",
       "      <th>min</th>\n",
       "      <th>25%</th>\n",
       "      <th>50%</th>\n",
       "      <th>75%</th>\n",
       "      <th>max</th>\n",
       "    </tr>\n",
       "    <tr>\n",
       "      <th>Gender</th>\n",
       "      <th></th>\n",
       "      <th></th>\n",
       "      <th></th>\n",
       "      <th></th>\n",
       "      <th></th>\n",
       "      <th></th>\n",
       "      <th></th>\n",
       "      <th></th>\n",
       "    </tr>\n",
       "  </thead>\n",
       "  <tbody>\n",
       "    <tr>\n",
       "      <th>female</th>\n",
       "      <td>16.0</td>\n",
       "      <td>33.750000</td>\n",
       "      <td>12.865976</td>\n",
       "      <td>12.0</td>\n",
       "      <td>25.50</td>\n",
       "      <td>39.0</td>\n",
       "      <td>43.50</td>\n",
       "      <td>50.0</td>\n",
       "    </tr>\n",
       "    <tr>\n",
       "      <th>male</th>\n",
       "      <td>12.0</td>\n",
       "      <td>30.416667</td>\n",
       "      <td>12.168950</td>\n",
       "      <td>14.0</td>\n",
       "      <td>21.75</td>\n",
       "      <td>29.0</td>\n",
       "      <td>43.25</td>\n",
       "      <td>47.0</td>\n",
       "    </tr>\n",
       "  </tbody>\n",
       "</table>\n",
       "</div>"
      ],
      "text/plain": [
       "        count       mean        std   min    25%   50%    75%   max\n",
       "Gender                                                             \n",
       "female   16.0  33.750000  12.865976  12.0  25.50  39.0  43.50  50.0\n",
       "male     12.0  30.416667  12.168950  14.0  21.75  29.0  43.25  47.0"
      ]
     },
     "execution_count": 9,
     "metadata": {},
     "output_type": "execute_result"
    }
   ],
   "source": [
    "df.groupby(by ='Gender')['Total Marks'].describe()"
   ]
  },
  {
   "cell_type": "markdown",
   "id": "21a723f0",
   "metadata": {},
   "source": [
    "As per the given data, mean and variation doesnt vary much across gender. Note that the median shows variation . In Total marks distribution, data shows, higher values for those who completed test preparation."
   ]
  },
  {
   "cell_type": "markdown",
   "id": "7c332008",
   "metadata": {},
   "source": [
    "## 2.Check whether female and male students scored the same marks."
   ]
  },
  {
   "cell_type": "markdown",
   "id": "81bb41d5",
   "metadata": {},
   "source": [
    "We will use a ttest with  alpha =.05 to determine if there exist a significant difference in mean marks among male and female.The status quo is that female and male students score the same marks."
   ]
  },
  {
   "cell_type": "markdown",
   "id": "60d9c5b4",
   "metadata": {},
   "source": [
    " * H0: female and male students score the same marks.\n",
    " * H1: female and male students did not score the same marks."
   ]
  },
  {
   "cell_type": "code",
   "execution_count": 10,
   "id": "6bef67b3",
   "metadata": {},
   "outputs": [],
   "source": [
    "# seperate male and female marks.\n",
    "male = df[df['Gender']=='male']['Total Marks']\n",
    "female = df[df['Gender']=='female']['Total Marks']\n",
    "alpha = .05"
   ]
  },
  {
   "cell_type": "code",
   "execution_count": 11,
   "id": "b3275a9d",
   "metadata": {},
   "outputs": [],
   "source": [
    "# import ttset module\n",
    "from scipy.stats import ttest_ind"
   ]
  },
  {
   "cell_type": "code",
   "execution_count": 12,
   "id": "f937dd69",
   "metadata": {},
   "outputs": [
    {
     "name": "stdout",
     "output_type": "stream",
     "text": [
      "p value : 0.4937822317960763\n",
      "Fail to reject H0.\n"
     ]
    }
   ],
   "source": [
    "_,p = ttest_ind(male,female)\n",
    "print(\"p value :\", p)\n",
    "if p < alpha:\n",
    "    print(\"Reject H0\")\n",
    "else:\n",
    "    print(\"Fail to reject H0.\")"
   ]
  },
  {
   "cell_type": "markdown",
   "id": "fa2538f2",
   "metadata": {},
   "source": [
    "***\n",
    "From the t-test we can conclude that, female and male students scored the same marks.\n",
    "***"
   ]
  },
  {
   "cell_type": "markdown",
   "id": "73fb741b",
   "metadata": {},
   "source": [
    "## 3. Whether test preparation helps the students"
   ]
  },
  {
   "cell_type": "markdown",
   "id": "a9118133",
   "metadata": {},
   "source": [
    "We will use a ttest with alpha =.05, to check if there is a significant differnce in mean marks among students whose test preparation status is completed vs none. Status quo will be test preparation doesnt have any effect on total marks."
   ]
  },
  {
   "cell_type": "markdown",
   "id": "bbef1b89",
   "metadata": {},
   "source": [
    "* H0: test preparation doesnt help students\n",
    "* H1: test preparation help students    "
   ]
  },
  {
   "cell_type": "code",
   "execution_count": 13,
   "id": "d6cd26dd",
   "metadata": {},
   "outputs": [],
   "source": [
    "tp_none = df[df['Test preparation']=='none']['Total Marks']\n",
    "tp_completed = df[df['Test preparation']=='completed']['Total Marks']"
   ]
  },
  {
   "cell_type": "code",
   "execution_count": 14,
   "id": "41aa4708",
   "metadata": {},
   "outputs": [],
   "source": [
    "_,p = ttest_ind(tp_none,tp_completed)"
   ]
  },
  {
   "cell_type": "code",
   "execution_count": 15,
   "id": "bb98660c",
   "metadata": {},
   "outputs": [
    {
     "name": "stdout",
     "output_type": "stream",
     "text": [
      "p value : 0.0012671292457320106\n",
      "Reject H0\n"
     ]
    }
   ],
   "source": [
    "print(\"p value :\", p)\n",
    "if p < alpha:\n",
    "    print(\"Reject H0\")\n",
    "else:\n",
    "    print(\"Fail to reject H0.\") "
   ]
  },
  {
   "cell_type": "markdown",
   "id": "e0ac2b81",
   "metadata": {},
   "source": [
    "From the test we can conclude that, test preparation help students."
   ]
  }
 ],
 "metadata": {
  "kernelspec": {
   "display_name": "Python 3 (ipykernel)",
   "language": "python",
   "name": "python3"
  },
  "language_info": {
   "codemirror_mode": {
    "name": "ipython",
    "version": 3
   },
   "file_extension": ".py",
   "mimetype": "text/x-python",
   "name": "python",
   "nbconvert_exporter": "python",
   "pygments_lexer": "ipython3",
   "version": "3.9.7"
  }
 },
 "nbformat": 4,
 "nbformat_minor": 5
}
